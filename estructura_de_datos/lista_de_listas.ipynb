{
  "nbformat": 4,
  "nbformat_minor": 0,
  "metadata": {
    "colab": {
      "provenance": [],
      "authorship_tag": "ABX9TyOkzB7WvavfVHoXDaLIPTxI",
      "include_colab_link": true
    },
    "kernelspec": {
      "name": "python3",
      "display_name": "Python 3"
    },
    "language_info": {
      "name": "python"
    }
  },
  "cells": [
    {
      "cell_type": "markdown",
      "metadata": {
        "id": "view-in-github",
        "colab_type": "text"
      },
      "source": [
        "<a href=\"https://colab.research.google.com/github/financieras/improve_python/blob/main/estructura_de_datos/lista_de_listas.ipynb\" target=\"_parent\"><img src=\"https://colab.research.google.com/assets/colab-badge.svg\" alt=\"Open In Colab\"/></a>"
      ]
    },
    {
      "cell_type": "markdown",
      "source": [
        "# Lista de listas"
      ],
      "metadata": {
        "id": "wLaGIuxOIlgY"
      }
    },
    {
      "cell_type": "code",
      "execution_count": 8,
      "metadata": {
        "colab": {
          "base_uri": "https://localhost:8080/"
        },
        "id": "mv1Djv8qAmsh",
        "outputId": "b416c261-fa74-4845-e135-bec01fe65ea1"
      },
      "outputs": [
        {
          "output_type": "stream",
          "name": "stdout",
          "text": [
            "[['Cálculo', 3.5, 2.5, 1.5, 2.4], ['Química', 2.5, 3, 5, 3.65], ['Deporte', 2.4, 2, 2.2, 2.2], ['Lógica', 1.5, 4, 4.5, 3.45]]\n",
            "La nota promedio del estudiante es: 2.925\n"
          ]
        }
      ],
      "source": [
        "notas = [\n",
        "    [\"Cálculo\", 3.5,2.5,1.5],\n",
        "    [\"Química\", 2.5,3,5],\n",
        "    [\"Deporte\", 2.4,2,2.2],\n",
        "    [\"Lógica\",1.5,4,4.5]\n",
        "]\n",
        "\n",
        "def c11_final():\n",
        "    pondera = [.3,.3,.4]\n",
        "    for asignatura in notas:\n",
        "        suma = 0\n",
        "        for i in range(3):\n",
        "            suma += asignatura[i+1] * pondera[i]\n",
        "        asignatura.append(round(suma,2))\n",
        "    print(notas)\n",
        "\n",
        "c11_final()\n",
        "\n",
        "def c12_promedio():\n",
        "    total = 0\n",
        "    for asignatura in notas:\n",
        "        total += asignatura[4]\n",
        "    promedio = total / len(notas)\n",
        "    print(f\"La nota promedio del estudiante es: {promedio}\")\n",
        "\n",
        "c12_promedio()\n"
      ]
    }
  ]
}